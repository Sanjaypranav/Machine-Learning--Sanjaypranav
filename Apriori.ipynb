{
 "cells": [
  {
   "cell_type": "markdown",
   "metadata": {},
   "source": [
    "# Importing the library\n",
    "pandas - For working with the dataset <br>\n",
    "apyori - For the association data mining problem"
   ]
  },
  {
   "cell_type": "code",
   "execution_count": 4,
   "metadata": {},
   "outputs": [],
   "source": [
    "import numpy as np\n",
    "import matplotlib.pyplot as plt\n",
    "import pandas as pd\n",
    "from apyori import apriori"
   ]
  },
  {
   "cell_type": "markdown",
   "metadata": {},
   "source": [
    "# Importing the dataset\n",
    "\n",
    "Import the dataset using the  pandas and make the header as none"
   ]
  },
  {
   "cell_type": "code",
   "execution_count": 6,
   "metadata": {},
   "outputs": [],
   "source": [
    "data = pd.read_csv('/home/deeplearningcv/Downloads/store_data.csv',header=None)"
   ]
  },
  {
   "cell_type": "markdown",
   "metadata": {},
   "source": [
    "# Data processing \n",
    "\n",
    "As we want to specify the data in the list of list for the apyori library we are converting the dataframe into the list of list"
   ]
  },
  {
   "cell_type": "code",
   "execution_count": 7,
   "metadata": {},
   "outputs": [],
   "source": [
    "records = []\n",
    "for i in range(0, 7501):\n",
    "    records.append([str(data.values[i,j]) for j in range(0, 20)])"
   ]
  },
  {
   "cell_type": "code",
   "execution_count": 9,
   "metadata": {},
   "outputs": [
    {
     "data": {
      "text/plain": [
       "[['shrimp',\n",
       "  'almonds',\n",
       "  'avocado',\n",
       "  'vegetables mix',\n",
       "  'green grapes',\n",
       "  'whole weat flour',\n",
       "  'yams',\n",
       "  'cottage cheese',\n",
       "  'energy drink',\n",
       "  'tomato juice',\n",
       "  'low fat yogurt',\n",
       "  'green tea',\n",
       "  'honey',\n",
       "  'salad',\n",
       "  'mineral water',\n",
       "  'salmon',\n",
       "  'antioxydant juice',\n",
       "  'frozen smoothie',\n",
       "  'spinach',\n",
       "  'olive oil'],\n",
       " ['burgers',\n",
       "  'meatballs',\n",
       "  'eggs',\n",
       "  'nan',\n",
       "  'nan',\n",
       "  'nan',\n",
       "  'nan',\n",
       "  'nan',\n",
       "  'nan',\n",
       "  'nan',\n",
       "  'nan',\n",
       "  'nan',\n",
       "  'nan',\n",
       "  'nan',\n",
       "  'nan',\n",
       "  'nan',\n",
       "  'nan',\n",
       "  'nan',\n",
       "  'nan',\n",
       "  'nan'],\n",
       " ['chutney',\n",
       "  'nan',\n",
       "  'nan',\n",
       "  'nan',\n",
       "  'nan',\n",
       "  'nan',\n",
       "  'nan',\n",
       "  'nan',\n",
       "  'nan',\n",
       "  'nan',\n",
       "  'nan',\n",
       "  'nan',\n",
       "  'nan',\n",
       "  'nan',\n",
       "  'nan',\n",
       "  'nan',\n",
       "  'nan',\n",
       "  'nan',\n",
       "  'nan',\n",
       "  'nan']]"
      ]
     },
     "execution_count": 9,
     "metadata": {},
     "output_type": "execute_result"
    }
   ],
   "source": [
    "records[0:3]"
   ]
  },
  {
   "cell_type": "markdown",
   "metadata": {},
   "source": [
    "# Finding the rules\n",
    "Using the apyori algorithm find the association rules"
   ]
  },
  {
   "cell_type": "code",
   "execution_count": 17,
   "metadata": {},
   "outputs": [],
   "source": [
    "association_rules = apriori(records, min_support=0.0045, min_confidence=0.25, min_lift=3.5, min_length=2)\n",
    "association_results = list(association_rules)"
   ]
  },
  {
   "cell_type": "markdown",
   "metadata": {},
   "source": [
    "Number of rules extracted from the apriori algorithm"
   ]
  },
  {
   "cell_type": "code",
   "execution_count": 18,
   "metadata": {},
   "outputs": [
    {
     "data": {
      "text/plain": [
       "16"
      ]
     },
     "execution_count": 18,
     "metadata": {},
     "output_type": "execute_result"
    }
   ],
   "source": [
    "len(association_results)"
   ]
  },
  {
   "cell_type": "markdown",
   "metadata": {},
   "source": [
    "Printing each and every rule with their support, confidence and the lift"
   ]
  },
  {
   "cell_type": "code",
   "execution_count": 39,
   "metadata": {},
   "outputs": [
    {
     "name": "stdout",
     "output_type": "stream",
     "text": [
      "light cream  -->  chicken\n",
      "Support:  0.004532728969470737\n",
      "Confidence:  0.29059829059829057\n",
      "Lift:  4.84395061728395\n",
      "---------------------------\n",
      "mushroom cream sauce  -->  escalope\n",
      "Support:  0.005732568990801226\n",
      "Confidence:  0.3006993006993007\n",
      "Lift:  3.790832696715049\n",
      "---------------------------\n",
      "pasta  -->  escalope\n",
      "Support:  0.005865884548726837\n",
      "Confidence:  0.3728813559322034\n",
      "Lift:  4.700811850163794\n",
      "---------------------------\n",
      "ground beef  -->  tomato sauce\n",
      "Support:  0.005332622317024397\n",
      "Confidence:  0.3773584905660377\n",
      "Lift:  3.840659481324083\n",
      "---------------------------\n",
      "olive oil  -->  whole wheat pasta\n",
      "Support:  0.007998933475536596\n",
      "Confidence:  0.2714932126696833\n",
      "Lift:  4.122410097642296\n",
      "---------------------------\n",
      "pasta  -->  shrimp\n",
      "Support:  0.005065991201173177\n",
      "Confidence:  0.3220338983050847\n",
      "Lift:  4.506672147735896\n",
      "---------------------------\n",
      "light cream  -->  chicken\n",
      "Support:  0.004532728969470737\n",
      "Confidence:  0.29059829059829057\n",
      "Lift:  4.84395061728395\n",
      "---------------------------\n",
      "mushroom cream sauce  -->  nan\n",
      "Support:  0.005732568990801226\n",
      "Confidence:  0.3006993006993007\n",
      "Lift:  3.790832696715049\n",
      "---------------------------\n",
      "pasta  -->  nan\n",
      "Support:  0.005865884548726837\n",
      "Confidence:  0.3728813559322034\n",
      "Lift:  4.700811850163794\n",
      "---------------------------\n",
      "mineral water  -->  ground beef\n",
      "Support:  0.006665777896280496\n",
      "Confidence:  0.39062500000000006\n",
      "Lift:  3.975682666214383\n",
      "---------------------------\n",
      "spaghetti  -->  ground beef\n",
      "Support:  0.006399146780429276\n",
      "Confidence:  0.3934426229508197\n",
      "Lift:  4.004359721511667\n",
      "---------------------------\n",
      "ground beef  -->  tomato sauce\n",
      "Support:  0.005332622317024397\n",
      "Confidence:  0.3773584905660377\n",
      "Lift:  3.840659481324083\n",
      "---------------------------\n",
      "olive oil  -->  whole wheat pasta\n",
      "Support:  0.007998933475536596\n",
      "Confidence:  0.2714932126696833\n",
      "Lift:  4.13077198425009\n",
      "---------------------------\n",
      "shrimp  -->  pasta\n",
      "Support:  0.005065991201173177\n",
      "Confidence:  0.3220338983050847\n",
      "Lift:  4.515095833993347\n",
      "---------------------------\n",
      "mineral water  -->  ground beef\n",
      "Support:  0.006665777896280496\n",
      "Confidence:  0.39062500000000006\n",
      "Lift:  3.975682666214383\n",
      "---------------------------\n",
      "spaghetti  -->  ground beef\n",
      "Support:  0.006399146780429276\n",
      "Confidence:  0.3934426229508197\n",
      "Lift:  4.004359721511667\n",
      "---------------------------\n"
     ]
    }
   ],
   "source": [
    "for results in association_results:\n",
    "    items = [items for items in results[0]]\n",
    "    \n",
    "    print(items[0],\" --> \",items[1])\n",
    "    print(\"Support: \",results[1])\n",
    "    print(\"Confidence: \",results[2][0][2])\n",
    "    print(\"Lift: \",results[2][0][3])\n",
    "    print(\"---------------------------\")\n",
    "    \n",
    "    \n",
    "    "
   ]
  },
  {
   "cell_type": "code",
   "execution_count": null,
   "metadata": {},
   "outputs": [],
   "source": []
  }
 ],
 "metadata": {
  "kernelspec": {
   "display_name": "Python 3",
   "language": "python",
   "name": "python3"
  },
  "language_info": {
   "codemirror_mode": {
    "name": "ipython",
    "version": 3
   },
   "file_extension": ".py",
   "mimetype": "text/x-python",
   "name": "python",
   "nbconvert_exporter": "python",
   "pygments_lexer": "ipython3",
   "version": "3.8.0"
  }
 },
 "nbformat": 4,
 "nbformat_minor": 2
}
