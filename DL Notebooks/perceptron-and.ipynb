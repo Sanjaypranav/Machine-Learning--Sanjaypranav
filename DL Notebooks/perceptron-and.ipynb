{
 "cells": [
  {
   "cell_type": "markdown",
   "metadata": {},
   "source": [
    "For Bipolar And "
   ]
  },
  {
   "cell_type": "code",
   "execution_count": 1,
   "metadata": {},
   "outputs": [],
   "source": [
    "import numpy as np"
   ]
  },
  {
   "cell_type": "code",
   "execution_count": 2,
   "metadata": {},
   "outputs": [
    {
     "name": "stdin",
     "output_type": "stream",
     "text": [
      "Enter X0 = 1\n",
      "Enter X1= -1\n",
      "Enter x2 = 1\n",
      "Enter Target= -1\n",
      "Enter X0 = 1\n",
      "Enter X1= 1\n",
      "Enter x2 = -1\n",
      "Enter Target= -1\n",
      "Enter X0 = 1\n",
      "Enter X1= -1\n",
      "Enter x2 = -1\n",
      "Enter Target= -1\n",
      "Enter X0 = 1\n",
      "Enter X1= 1\n",
      "Enter x2 = 1\n",
      "Enter Target= 1\n"
     ]
    },
    {
     "name": "stdout",
     "output_type": "stream",
     "text": [
      "[[[1, -1, 1], -1], [[1, 1, -1], -1], [[1, -1, -1], -1], [[1, 1, 1], 1]]\n"
     ]
    }
   ],
   "source": [
    "And = []\n",
    "for i in range(4):\n",
    "    And.append([[int(input('Enter X0 =')),int(input('Enter X1=')),int(input('Enter x2 ='))],int(input('Enter Target='))])\n",
    "print(And)"
   ]
  },
  {
   "cell_type": "code",
   "execution_count": 13,
   "metadata": {
    "tags": []
   },
   "outputs": [],
   "source": [
    "l_rate = 0.1\n",
    "epoch = 5"
   ]
  },
  {
   "cell_type": "code",
   "execution_count": 21,
   "metadata": {},
   "outputs": [],
   "source": [
    "class Perceptron:\n",
    "    def __init__(self):\n",
    "        self.weights = np.random.rand(3)\n",
    "        self.l_rate = None\n",
    "        self.epochs = None\n",
    "        self.step_function = lambda x: 1 if x>0 else -1\n",
    "   \n",
    "    def Train_weights(self, data, l_rate=0.1, epochs=5):\n",
    "        for i in range(epochs):\n",
    "            for Input, target in data:\n",
    "                result = np.dot(self.weights, Input)\n",
    "                error = target - self.step_function(result)\n",
    "                self.weights += l_rate * np.dot(error,Input)\n",
    "            print(f'>>Error {error}: Weights : {self.weights}')\n",
    "        self.weights = weights\n",
    "    \n",
    "    def Evaluate(self, data):\n",
    "        for x,t in data:\n",
    "            print(f'>>Input = {x} Predicted = {self.step_function(np.dot(self.weights,x))} Target = {t}')\n",
    "        \n",
    "    "
   ]
  },
  {
   "cell_type": "code",
   "execution_count": 22,
   "metadata": {
    "tags": []
   },
   "outputs": [
    {
     "name": "stdout",
     "output_type": "stream",
     "text": [
      ">>Error 0: Weights : [0.30357707 0.66938735 0.2334955 ]\n",
      ">>Error 0: Weights : [0.10357707 0.46938735 0.4334955 ]\n",
      ">>Error 0: Weights : [-0.29642293  0.46938735  0.4334955 ]\n",
      ">>Error 0: Weights : [-0.29642293  0.46938735  0.4334955 ]\n",
      ">>Error 0: Weights : [-0.29642293  0.46938735  0.4334955 ]\n"
     ]
    }
   ],
   "source": [
    "perceptron = Perceptron()\n",
    "perceptron.Train_weights(And,l_rate =l_rate , epochs =epoch)"
   ]
  },
  {
   "cell_type": "code",
   "execution_count": 23,
   "metadata": {},
   "outputs": [
    {
     "name": "stdout",
     "output_type": "stream",
     "text": [
      ">>Input = [1, -1, 1] Predicted = -1 Target = -1\n",
      ">>Input = [1, 1, -1] Predicted = -1 Target = -1\n",
      ">>Input = [1, -1, -1] Predicted = -1 Target = -1\n",
      ">>Input = [1, 1, 1] Predicted = 1 Target = 1\n"
     ]
    }
   ],
   "source": [
    "perceptron.Evaluate(And)"
   ]
  }
 ],
 "metadata": {
  "interpreter": {
   "hash": "46d0c18fa7fb55f20b446d8f714321ce5da6a93f775dd0af41b121856f45d154"
  },
  "kernelspec": {
   "display_name": "Python 3 (ipykernel)",
   "language": "python",
   "name": "python3"
  },
  "language_info": {
   "codemirror_mode": {
    "name": "ipython",
    "version": 3
   },
   "file_extension": ".py",
   "mimetype": "text/x-python",
   "name": "python",
   "nbconvert_exporter": "python",
   "pygments_lexer": "ipython3",
   "version": "3.8.0"
  }
 },
 "nbformat": 4,
 "nbformat_minor": 4
}
