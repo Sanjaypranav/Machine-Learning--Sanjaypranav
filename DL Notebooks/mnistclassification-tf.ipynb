{
 "cells": [
  {
   "cell_type": "markdown",
   "metadata": {},
   "source": [
    "1)Importing Packages\n",
    "\n",
    "numpy is the fundamental package for scientific computing with Python.\n",
    "matplotlib is a library to plot graphs in Python."
   ]
  },
  {
   "cell_type": "code",
   "execution_count": 1,
   "metadata": {},
   "outputs": [],
   "source": [
    "import tensorflow as tf\n",
    "import numpy as np\n",
    "import h5py\n",
    "import matplotlib.pyplot as plt\n",
    "import pandas as pd\n",
    "from keras.models import Sequential\n",
    "from keras.layers import Dense, Conv2D, MaxPooling2D, Flatten\n",
    "from tensorflow.keras.utils import to_categorical\n",
    "from tensorflow.keras.optimizers import SGD"
   ]
  },
  {
   "cell_type": "markdown",
   "metadata": {},
   "source": [
    "Importing MNIST dataset using Tensorflow 2.0"
   ]
  },
  {
   "cell_type": "code",
   "execution_count": 2,
   "metadata": {},
   "outputs": [],
   "source": [
    "from tensorflow.keras.datasets import mnist\n",
    "(X_train, Y_train), (X_test, Y_test) = mnist.load_data()"
   ]
  },
  {
   "cell_type": "code",
   "execution_count": 3,
   "metadata": {},
   "outputs": [
    {
     "data": {
      "text/plain": [
       "(60000, 28, 28)"
      ]
     },
     "execution_count": 3,
     "metadata": {},
     "output_type": "execute_result"
    }
   ],
   "source": [
    "X_train.shape"
   ]
  },
  {
   "cell_type": "markdown",
   "metadata": {
    "tags": []
   },
   "source": [
    "The shape of each image we can find that it is 28×28 in size. Meaning the image has 28pixels x 28pixels."
   ]
  },
  {
   "cell_type": "markdown",
   "metadata": {},
   "source": [
    "we have to reshape in such a way that we have we can access every pixel of the image. The reason to access every pixel is that only then we can apply deep learning ideas and can assign color code to every pixel. Then we store the reshaped array in X_train, X_test respectively.\n"
   ]
  },
  {
   "cell_type": "code",
   "execution_count": 4,
   "metadata": {},
   "outputs": [],
   "source": [
    "X_train = X_train.reshape((-1, 28,28,1)).astype('float32')\n",
    "X_test = X_test.reshape((-1, 28,28,1)).astype('float32')\n",
    "\n",
    "Y_train = to_categorical(Y_train)\n",
    "Y_test = to_categorical(Y_test)"
   ]
  },
  {
   "cell_type": "code",
   "execution_count": 5,
   "metadata": {},
   "outputs": [],
   "source": [
    "X_train = X_train /255\n",
    "X_test = X_test /255"
   ]
  },
  {
   "cell_type": "code",
   "execution_count": 6,
   "metadata": {},
   "outputs": [],
   "source": [
    "model = Sequential()\n",
    "model.add(Conv2D(32, (3, 3), activation='relu', kernel_initializer='he_uniform', input_shape=(28, 28, 1)))\n",
    "model.add(MaxPooling2D((2, 2)))\n",
    "model.add(Flatten())\n",
    "model.add(Dense(100, activation='relu', kernel_initializer='he_uniform'))\n",
    "model.add(Dense(10, activation='softmax'))"
   ]
  },
  {
   "cell_type": "code",
   "execution_count": 7,
   "metadata": {
    "tags": []
   },
   "outputs": [
    {
     "name": "stdout",
     "output_type": "stream",
     "text": [
      "Model: \"sequential\"\n",
      "_________________________________________________________________\n",
      "Layer (type)                 Output Shape              Param #   \n",
      "=================================================================\n",
      "conv2d (Conv2D)              (None, 26, 26, 32)        320       \n",
      "_________________________________________________________________\n",
      "max_pooling2d (MaxPooling2D) (None, 13, 13, 32)        0         \n",
      "_________________________________________________________________\n",
      "flatten (Flatten)            (None, 5408)              0         \n",
      "_________________________________________________________________\n",
      "dense (Dense)                (None, 100)               540900    \n",
      "_________________________________________________________________\n",
      "dense_1 (Dense)              (None, 10)                1010      \n",
      "=================================================================\n",
      "Total params: 542,230\n",
      "Trainable params: 542,230\n",
      "Non-trainable params: 0\n",
      "_________________________________________________________________\n"
     ]
    }
   ],
   "source": [
    "model.summary()"
   ]
  },
  {
   "cell_type": "code",
   "execution_count": 8,
   "metadata": {
    "tags": []
   },
   "outputs": [],
   "source": [
    "# from ann_visualizer.visualize import ann_viz;\n",
    "\n",
    "# ann_viz(model, title=\"My first neural network\")"
   ]
  },
  {
   "cell_type": "code",
   "execution_count": 9,
   "metadata": {},
   "outputs": [],
   "source": [
    "model.compile(optimizer = SGD(), loss= 'categorical_crossentropy', metrics = ['accuracy'])"
   ]
  },
  {
   "cell_type": "code",
   "execution_count": 10,
   "metadata": {},
   "outputs": [
    {
     "name": "stdout",
     "output_type": "stream",
     "text": [
      "Epoch 1/10\n",
      "600/600 [==============================] - 26s 42ms/step - loss: 0.4109 - accuracy: 0.8885 - val_loss: 0.2298 - val_accuracy: 0.9352\n",
      "Epoch 2/10\n",
      "600/600 [==============================] - 24s 40ms/step - loss: 0.2171 - accuracy: 0.9391 - val_loss: 0.1789 - val_accuracy: 0.9504\n",
      "Epoch 3/10\n",
      "600/600 [==============================] - 24s 40ms/step - loss: 0.1740 - accuracy: 0.9515 - val_loss: 0.1463 - val_accuracy: 0.9602\n",
      "Epoch 4/10\n",
      "600/600 [==============================] - 24s 41ms/step - loss: 0.1472 - accuracy: 0.9590 - val_loss: 0.1283 - val_accuracy: 0.9648\n",
      "Epoch 5/10\n",
      "600/600 [==============================] - 24s 40ms/step - loss: 0.1280 - accuracy: 0.9650 - val_loss: 0.1154 - val_accuracy: 0.9675\n",
      "Epoch 6/10\n",
      "600/600 [==============================] - 24s 40ms/step - loss: 0.1142 - accuracy: 0.9693 - val_loss: 0.1042 - val_accuracy: 0.9707\n",
      "Epoch 7/10\n",
      "600/600 [==============================] - 25s 41ms/step - loss: 0.1033 - accuracy: 0.9721 - val_loss: 0.0952 - val_accuracy: 0.9736\n",
      "Epoch 8/10\n",
      "600/600 [==============================] - 24s 41ms/step - loss: 0.0942 - accuracy: 0.9743 - val_loss: 0.0903 - val_accuracy: 0.9739\n",
      "Epoch 9/10\n",
      "600/600 [==============================] - 24s 40ms/step - loss: 0.0867 - accuracy: 0.9768 - val_loss: 0.0811 - val_accuracy: 0.9759\n",
      "Epoch 10/10\n",
      "600/600 [==============================] - 24s 40ms/step - loss: 0.0803 - accuracy: 0.9788 - val_loss: 0.0799 - val_accuracy: 0.9779\n"
     ]
    },
    {
     "data": {
      "text/plain": [
       "<keras.callbacks.History at 0x1c510c102e0>"
      ]
     },
     "execution_count": 10,
     "metadata": {},
     "output_type": "execute_result"
    }
   ],
   "source": [
    "model.fit(X_train, Y_train, epochs = 10, batch_size = 100, validation_data =(X_test, Y_test))"
   ]
  }
 ],
 "metadata": {
  "interpreter": {
   "hash": "46d0c18fa7fb55f20b446d8f714321ce5da6a93f775dd0af41b121856f45d154"
  },
  "kernelspec": {
   "display_name": "Python 3 (ipykernel)",
   "language": "python",
   "name": "python3"
  },
  "language_info": {
   "codemirror_mode": {
    "name": "ipython",
    "version": 3
   },
   "file_extension": ".py",
   "mimetype": "text/x-python",
   "name": "python",
   "nbconvert_exporter": "python",
   "pygments_lexer": "ipython3",
   "version": "3.8.0"
  },
  "toc-autonumbering": true,
  "toc-showcode": false,
  "toc-showtags": false
 },
 "nbformat": 4,
 "nbformat_minor": 4
}
